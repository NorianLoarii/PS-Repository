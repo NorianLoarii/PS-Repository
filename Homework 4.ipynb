{
 "cells": [
  {
   "cell_type": "markdown",
   "metadata": {},
   "source": [
    "# Loops and Lists"
   ]
  },
  {
   "cell_type": "markdown",
   "metadata": {},
   "source": [
    "## List"
   ]
  },
  {
   "cell_type": "markdown",
   "metadata": {},
   "source": [
    "A list (or an array in other languages) is a set of values introduced in one variable, it goes from 1 to 536,870,912 values, its counting starts from 0. The lists can be used to save up a lot of values in just one variable."
   ]
  },
  {
   "cell_type": "markdown",
   "metadata": {},
   "source": [
    "## For Loop"
   ]
  },
  {
   "cell_type": "markdown",
   "metadata": {},
   "source": [
    "A For Loop is a process that repeats itself to N limit (defined by the user) it is useful to create sumatories, or to introduce values to a list."
   ]
  },
  {
   "cell_type": "markdown",
   "metadata": {},
   "source": [
    "## Program 1 - Sample mean of n ages"
   ]
  },
  {
   "cell_type": "code",
   "execution_count": 9,
   "metadata": {},
   "outputs": [
    {
     "name": "stdout",
     "output_type": "stream",
     "text": [
      "How many data do you want to introduce? 4\n",
      "Introduce age 1: 17\n",
      "Introduce age 2: 12\n",
      "Introduce age 3: 19\n",
      "Introduce age 4: 12\n",
      "\n",
      "This is all the data you introduced: \n",
      "\n",
      "17 12 19 12 \n",
      "This is the sample mean of the ages: 15.0\n"
     ]
    }
   ],
   "source": [
    "n = int(input(\"How many data do you want to introduce? \"))\n",
    "age = []\n",
    "presum = 0\n",
    "for ages in range(0,n):\n",
    "    i = int(input(f\"Introduce age {ages + 1}: \"))\n",
    "    age.append(i)\n",
    "    presum = presum + i\n",
    "    \n",
    "print(\"\\nThis is all the data you introduced: \\n\")\n",
    "for printa in range(0,n):\n",
    "    print(age[printa], end=' ')\n",
    "    \n",
    "sample=presum/n\n",
    "\n",
    "print(f\"\\nThis is the sample mean of the ages: {sample}\")"
   ]
  },
  {
   "cell_type": "markdown",
   "metadata": {},
   "source": [
    "## Program 2 - Extraction of a name from a list of n names"
   ]
  },
  {
   "cell_type": "code",
   "execution_count": 15,
   "metadata": {},
   "outputs": [
    {
     "name": "stdout",
     "output_type": "stream",
     "text": [
      "How many data do you want to introduce? 5\n",
      "Introduce name 1: Juan\n",
      "Introduce name 2: Alberto\n",
      "Introduce name 3: Natalia\n",
      "Introduce name 4: Gus\n",
      "Introduce name 5: Alex\n",
      "\n",
      "This is all the data you introduced: \n",
      "\n",
      "Juan Alberto Natalia Gus Alex \n",
      "\n",
      "Which name would you like to extract? 4\n",
      "\n",
      "You chose to extract Gus from the list\n"
     ]
    }
   ],
   "source": [
    "n = int(input(\"How many data do you want to introduce? \"))\n",
    "name = []\n",
    "for names in range(0,n):\n",
    "    i = input(f\"Introduce name {names + 1}: \")\n",
    "    name.append(i)\n",
    "    \n",
    "print(\"\\nThis is all the data you introduced: \\n\")\n",
    "for printa in range(0,n):\n",
    "    print(name[printa], end=' ')\n",
    "    \n",
    "e = int(input(\"\\n\\nWhich name would you like to extract? \"))\n",
    "print(f\"\\nYou chose to extract {name[(e-1)]} from the list\")"
   ]
  }
 ],
 "metadata": {
  "kernelspec": {
   "display_name": "Python 3",
   "language": "python",
   "name": "python3"
  },
  "language_info": {
   "codemirror_mode": {
    "name": "ipython",
    "version": 3
   },
   "file_extension": ".py",
   "mimetype": "text/x-python",
   "name": "python",
   "nbconvert_exporter": "python",
   "pygments_lexer": "ipython3",
   "version": "3.7.4"
  }
 },
 "nbformat": 4,
 "nbformat_minor": 2
}
