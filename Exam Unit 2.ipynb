{
 "cells": [
  {
   "cell_type": "markdown",
   "metadata": {},
   "source": [
    "# Analyzing data in real time"
   ]
  },
  {
   "cell_type": "markdown",
   "metadata": {},
   "source": [
    "In this program I made a code with an infinite loop using a while 5, as the condition is always proven true it will never stop as it is independant from any other variables, then I placed an input for every time we introduce Time and Temperature respectively, then I separated every sumatory into simplier variables as it will sum them every time the loop repeats itself, after that I placed an m that is only the time of n added by one every time it repeats itself, then an if condition was placed only to verify if its the second time we introduce a pair of values, after that in the if it calculates the formula and at the same time calculates how many time will it take to reach to 35C, at the end it only sums 1 more to the value of n"
   ]
  },
  {
   "cell_type": "markdown",
   "metadata": {},
   "source": [
    "# Analysis"
   ]
  },
  {
   "cell_type": "markdown",
   "metadata": {},
   "source": [
    "As for the analysis, at the first 5 times it doesn't change significantly due to the temperature not changing gradually, but after the 6th time it starts to lower the time in which it will reach 35C as the temperature increases significantly"
   ]
  },
  {
   "cell_type": "code",
   "execution_count": null,
   "metadata": {},
   "outputs": [
    {
     "name": "stdout",
     "output_type": "stream",
     "text": [
      "Introduce the value of Time(s) in row 1: 0\n",
      "Introduce the value of Temperature(C) in row 1: 20\n",
      "Introduce the value of Time(s) in row 2: 30\n",
      "Introduce the value of Temperature(C) in row 2: 20.2\n",
      "\n",
      "It will reach 35C in 2250.0s\n",
      "\n",
      "Introduce the value of Time(s) in row 3: 60\n",
      "Introduce the value of Temperature(C) in row 3: 20.2\n",
      "\n",
      "It will reach 35C in 4490.000000000225s\n",
      "\n",
      "Introduce the value of Time(s) in row 4: 90\n",
      "Introduce the value of Temperature(C) in row 4: 20.3\n",
      "\n",
      "It will reach 35C in 4986.666666666667s\n",
      "\n",
      "Introduce the value of Time(s) in row 5: 120\n",
      "Introduce the value of Temperature(C) in row 5: 20.4\n",
      "\n",
      "It will reach 35C in 4986.666666666667s\n",
      "\n",
      "Introduce the value of Time(s) in row 6: 150\n",
      "Introduce the value of Temperature(C) in row 6: 20.8\n",
      "\n",
      "It will reach 35C in 3355.3191489361143s\n",
      "\n",
      "Introduce the value of Time(s) in row 7: 180\n",
      "Introduce the value of Temperature(C) in row 7: 21.1\n",
      "\n",
      "It will reach 35C in 2694.255319148936s\n",
      "\n",
      "Introduce the value of Time(s) in row 8: 210\n",
      "Introduce the value of Temperature(C) in row 8: 21.5\n",
      "\n",
      "It will reach 35C in 2257.810650887574s\n",
      "\n",
      "Introduce the value of Time(s) in row 9: 240\n",
      "Introduce the value of Temperature(C) in row 9: 21.7\n",
      "\n",
      "It will reach 35C in 2101.538461538462s\n",
      "\n",
      "Introduce the value of Time(s) in row 10: 270\n",
      "Introduce the value of Temperature(C) in row 10: 22.1\n",
      "\n",
      "It will reach 35C in 1947.4418604651164s\n",
      "\n"
     ]
    }
   ],
   "source": [
    "a = 0\n",
    "b = 0\n",
    "c = 0\n",
    "d = 0\n",
    "n = 0\n",
    "\n",
    "while 5:\n",
    "    x = float(input(f\"Introduce the value of Time(s) in row {n+1}: \"))\n",
    "    y = float(input(f\"Introduce the value of Temperature(C) in row {n+1}: \"))\n",
    "    a = a + (x*y)\n",
    "    b = b + x\n",
    "    c = c + y\n",
    "    d = d + (x*x)\n",
    "    e = b * b\n",
    "    \n",
    "    m = n + 1\n",
    "    \n",
    "    if n>0:\n",
    "        b1 = ((m*a)-(b*c))/((m*d)-(e))\n",
    "        b0 = (c-(b1*b))/m\n",
    "        \n",
    "        cx = (35 - b0)/b1\n",
    "        \n",
    "        print(f\"\\nIt will reach 35C in {cx}s\\n\")\n",
    "        \n",
    "    n = n + 1"
   ]
  },
  {
   "cell_type": "code",
   "execution_count": null,
   "metadata": {},
   "outputs": [],
   "source": []
  }
 ],
 "metadata": {
  "kernelspec": {
   "display_name": "Python 3",
   "language": "python",
   "name": "python3"
  },
  "language_info": {
   "codemirror_mode": {
    "name": "ipython",
    "version": 3
   },
   "file_extension": ".py",
   "mimetype": "text/x-python",
   "name": "python",
   "nbconvert_exporter": "python",
   "pygments_lexer": "ipython3",
   "version": "3.7.4"
  }
 },
 "nbformat": 4,
 "nbformat_minor": 2
}
