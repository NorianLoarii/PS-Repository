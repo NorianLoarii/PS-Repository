{
 "cells": [
  {
   "cell_type": "markdown",
   "metadata": {},
   "source": [
    "# QUIZ 3"
   ]
  },
  {
   "cell_type": "markdown",
   "metadata": {},
   "source": [
    "In this quiz we were asked to create a program that calculates the linear regression of the data we introduced (x,y). In this program first we ask how many data are we going to introduce, after that we inicialize the variables a, b, c, d because they will be dependand on themselves, the next step is creating a FOR loop that goes from 0 to n asking about each value of x and y, with its respective text adding 1 to the value of the data. With that cycle we're going to get each one of the individual sumatories that are present in the formula, which are (x*y), (x), (y) and (x^2), with that we will save the result of each sumatory in each one of the variables we established. As we finished the for, there's one more sumatory that is left for us which was the sumatory of x and the final result squared so that goes to the variable e, in which we don't need to inicialize due to it not being dependant of its value, then we execute the formula replacing the sumatories with the variables we used, which range from a - e, in order to make it easier to understand, and by the end we printed the result representing it as the formula of linear regression which is y=b0+b1x in a formatted print. This code doesn't use any lists in order to save up memory by erasing a lot of lines, increasing the efficiency of the code and also making it look very easy to understand."
   ]
  },
  {
   "cell_type": "code",
   "execution_count": 16,
   "metadata": {},
   "outputs": [
    {
     "name": "stdout",
     "output_type": "stream",
     "text": [
      "How many values would you like to introduce? 3\n",
      "Introduce the value of x1: 5\n",
      "Introduce the value of y1: 6\n",
      "Introduce the value of x2: 2\n",
      "Introduce the value of y2: 7\n",
      "Introduce the value of x3: 4\n",
      "Introduce the value of y3: 8\n",
      "\n",
      "y=(7.785714285714286)+(-0.21428571428571427x)\n"
     ]
    }
   ],
   "source": [
    "n = int(input(\"How many values would you like to introduce? \"))\n",
    "a = 0\n",
    "b = 0\n",
    "c = 0\n",
    "d = 0\n",
    "\n",
    "for data in range(0,n):\n",
    "    x = int(input(f\"Introduce the value of x{data+1}: \"))\n",
    "    y = int(input(f\"Introduce the value of y{data+1}: \"))\n",
    "    a = a + (x*y)\n",
    "    b = b + x\n",
    "    c = c + y\n",
    "    d = d + (x*x)\n",
    "    \n",
    "e = b * b\n",
    "\n",
    "b1 = ((n*a)-(b*c))/((n*d)-(e))\n",
    "b0 = (c-(b1*b))/n\n",
    "\n",
    "print(f\"\\ny=({b0})+({b1}x)\")"
   ]
  },
  {
   "cell_type": "markdown",
   "metadata": {},
   "source": [
    "## Team Members:"
   ]
  },
  {
   "cell_type": "markdown",
   "metadata": {},
   "source": [
    "González Graciano Diego Iván  \n",
    "Govea Armengol Alejandro  \n",
    "Guerrero Chávez Erick Antonio  \n",
    "Jasso Medina Leonardo Daniel  "
   ]
  }
 ],
 "metadata": {
  "kernelspec": {
   "display_name": "Python 3",
   "language": "python",
   "name": "python3"
  },
  "language_info": {
   "codemirror_mode": {
    "name": "ipython",
    "version": 3
   },
   "file_extension": ".py",
   "mimetype": "text/x-python",
   "name": "python",
   "nbconvert_exporter": "python",
   "pygments_lexer": "ipython3",
   "version": "3.7.4"
  }
 },
 "nbformat": 4,
 "nbformat_minor": 2
}
