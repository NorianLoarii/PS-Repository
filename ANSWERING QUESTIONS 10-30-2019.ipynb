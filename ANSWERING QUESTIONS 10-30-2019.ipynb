{
 "cells": [
  {
   "cell_type": "markdown",
   "metadata": {},
   "source": [
    "## ANSWERING QUESTIONS"
   ]
  },
  {
   "cell_type": "markdown",
   "metadata": {},
   "source": [
    "In this program we will learn how to introduce either strings or numbers with the help of the command input"
   ]
  },
  {
   "cell_type": "markdown",
   "metadata": {},
   "source": [
    "\"VAR = input()\" This command will save the variable/string introduced to VAR, a text can be printed before the introduction of the variable by simply adding text inside the parenthesis"
   ]
  },
  {
   "cell_type": "markdown",
   "metadata": {},
   "source": [
    "\"int(input())\" It converts the \"text\" introduced to a number, in this case an int, as input reads every \"text\" introduced as a string"
   ]
  },
  {
   "cell_type": "markdown",
   "metadata": {},
   "source": [
    "# Sample Mean"
   ]
  },
  {
   "cell_type": "markdown",
   "metadata": {},
   "source": [
    "A sample mean is simply as an average, which is a \"central value\" of all the data in order to get a common value in an arrange of data."
   ]
  },
  {
   "cell_type": "code",
   "execution_count": 3,
   "metadata": {},
   "outputs": [
    {
     "name": "stdout",
     "output_type": "stream",
     "text": [
      "What's your name??\n",
      "Alex\n",
      "Hello Alex! Good Morning!\n",
      "How old are you?\n",
      "19\n",
      "Really you are 19??\n"
     ]
    }
   ],
   "source": [
    "print(\"What's your name??\")\n",
    "name = input()\n",
    "print(f\"Hello {name}! Good Morning!\")\n",
    "print(\"How old are you?\")\n",
    "age = input()\n",
    "print(f\"Really you are {age}??\")"
   ]
  },
  {
   "cell_type": "code",
   "execution_count": 8,
   "metadata": {},
   "outputs": [
    {
     "name": "stdout",
     "output_type": "stream",
     "text": [
      "Let's get the sample mean of the ages of 3 students, shall we?\n",
      "What's student-one's age? 13\n",
      "What's student-two's age? 19\n",
      "What's student-three's age? 21\n",
      "The sample mean of the ages is 17.666666666666668\n"
     ]
    }
   ],
   "source": [
    "# Let's start with a proper estetic program telling the instruction.\n",
    "print(\"Let's get the sample mean of the ages of 3 students, shall we?\")\n",
    "# Here it will be asked to introduce each one of the student's ages, by the help of the input command and the int, \n",
    "# otherwise it will be taken as a string and it won't be able to perform mathematical operations leading obviously \n",
    "# to an error.\n",
    "ag1 = int(input(\"What's student-one's age? \"))\n",
    "ag2 = int(input(\"What's student-two's age? \"))\n",
    "ag3 = int(input(\"What's student-three's age? \"))\n",
    "# Here is the sample mean formula for unarranged data, which is the sumatory of the values divided by the number of values.\n",
    "sm = (ag1+ag2+ag3)/3\n",
    "# We will print the result by a formatted print in order to read the variable inside the brackets.\n",
    "print(f\"The sample mean of the ages is {sm}\")"
   ]
  }
 ],
 "metadata": {
  "kernelspec": {
   "display_name": "Python 3",
   "language": "python",
   "name": "python3"
  },
  "language_info": {
   "codemirror_mode": {
    "name": "ipython",
    "version": 3
   },
   "file_extension": ".py",
   "mimetype": "text/x-python",
   "name": "python",
   "nbconvert_exporter": "python",
   "pygments_lexer": "ipython3",
   "version": "3.7.4"
  }
 },
 "nbformat": 4,
 "nbformat_minor": 2
}
