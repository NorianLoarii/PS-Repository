{
 "cells": [
  {
   "cell_type": "markdown",
   "metadata": {},
   "source": [
    "# Trimmed Mean"
   ]
  },
  {
   "cell_type": "markdown",
   "metadata": {},
   "source": [
    "First we opened a while loop that its an infinite loop (with the condition of i must equal 0) until the user stops it with the word \"stop\", we opened in the loop an input to introduce the data that also accepts strings so we can write the word \"stop\" in it. If the input is \"stop\" it will change the value of i to 1 and closing the loop, if its otherwise a number then it will convert it to a floating number, add 1 to the variable n which is the number of values we have, and add the number to the list l.\n",
    "\n",
    "Then after closing the loop the program will perform the bubble sorting method, which consists of analyzing each value from 0 to n-1 with each value from y,n (y being the current value from the order 0,n-1), then if the value y its greater than the value z, it will switch both numbers. And the process repeats until the list ends.\n",
    "\n",
    "After that we placed a condition that verifies if n is greater than 0, that is because we can stop the program without introducing any data.\n",
    "\n",
    "Continuing, we placed an input that asks for the percentage of the trimmed mean, after it, we placed a while loop in order to verify if the percentage we introduced was a valid one (from the range of 0-50%) then we calculated the data we are going to truncate from the list by dividing the percentage by 100 and multiplying it by n, all that converted to an int as the equation might give floating numbers. But why was it converted to an int?, because python truncates the decimals, meaning a 1.999999 will take it as a 1 and there aren't values of floating order.\n",
    "\n",
    "Finally, a for loop was created in order to show all the data that will be used and the sum of all those values, starting from 0 + (The integers that were cut on the left) and it will end by n - (The integers that were cut on the right), then after it, it will calculate the trimmed mean by dividing the sum of all those values by n - (The integers that were cut on both sides) and it will print it."
   ]
  },
  {
   "cell_type": "code",
   "execution_count": 9,
   "metadata": {},
   "outputs": [
    {
     "name": "stdout",
     "output_type": "stream",
     "text": [
      "Introduce the data 1: 4\n",
      "Introduce the data 2: 5\n",
      "Introduce the data 3: 2\n",
      "Introduce the data 4: 4\n",
      "Introduce the data 5: 6\n",
      "Introduce the data 6: 8\n",
      "Introduce the data 7: 0\n",
      "Introduce the data 8: 10\n",
      "Introduce the data 9: stop\n",
      "This is the ordered list: \n",
      " [0.0, 2.0, 4.0, 4.0, 5.0, 6.0, 8.0, 10.0]\n",
      "\n",
      "Please input the percentage of the trimmed mean you want to calculate: 12.5\n",
      "\n",
      "You chose to calculate the trimmed mean by 12.5%\n",
      "\n",
      "This is the data that will be calculated: \n",
      "\n",
      "2.0 4.0 4.0 5.0 6.0 8.0 \n",
      "\n",
      "Therefore, the trimmed mean of the data is 4.833333333333333\n"
     ]
    }
   ],
   "source": [
    "i = 0\n",
    "n = 0\n",
    "rep = 0\n",
    "sums = 0\n",
    "l = []\n",
    "\n",
    "while i == 0:\n",
    "    data = input(f\"Introduce the data {n+1}: \")\n",
    "    \n",
    "    if data == \"stop\":\n",
    "        i = 1\n",
    "        \n",
    "    if data != \"stop\":\n",
    "        x = float(data)\n",
    "        n = n + 1\n",
    "        l.append(x)\n",
    "\n",
    "for y in range(0,n-1):\n",
    "    for z in range(y,n):\n",
    "        if l[y] > l[z]:\n",
    "            rep = l[y]\n",
    "            l[y] = l[z]\n",
    "            l[z] = rep\n",
    "            \n",
    "print(f\"This is the ordered list: \\n {l}\")\n",
    "            \n",
    "if n > 0:\n",
    "    tm = float(input(\"\\nPlease input the percentage of the trimmed mean you want to calculate: \"))\n",
    "    while tm < 0 or tm > 50:\n",
    "        tm = float(input(\"\\nPlease input a valid percentage: \"))\n",
    "    print(f\"\\nYou chose to calculate the trimmed mean by {tm}%\")\n",
    "\n",
    "    truecut = int((tm/100)*n)\n",
    "\n",
    "    print(\"\\nThis is the data that will be calculated: \\n\")\n",
    "\n",
    "    for w in range(0+truecut,n-truecut):\n",
    "        sums = sums + l[w]\n",
    "        print(l[w], end=' ')\n",
    "\n",
    "    tmean = sums/(n-(truecut*2))\n",
    "\n",
    "    print(f\"\\n\\nTherefore, the trimmed mean of the data is {tmean}\")"
   ]
  },
  {
   "cell_type": "code",
   "execution_count": null,
   "metadata": {},
   "outputs": [],
   "source": []
  }
 ],
 "metadata": {
  "kernelspec": {
   "display_name": "Python 3",
   "language": "python",
   "name": "python3"
  },
  "language_info": {
   "codemirror_mode": {
    "name": "ipython",
    "version": 3
   },
   "file_extension": ".py",
   "mimetype": "text/x-python",
   "name": "python",
   "nbconvert_exporter": "python",
   "pygments_lexer": "ipython3",
   "version": "3.7.4"
  }
 },
 "nbformat": 4,
 "nbformat_minor": 2
}
