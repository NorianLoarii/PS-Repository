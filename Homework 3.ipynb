{
 "cells": [
  {
   "cell_type": "markdown",
   "metadata": {},
   "source": [
    "## IF - CONDITIONALS"
   ]
  },
  {
   "cell_type": "markdown",
   "metadata": {},
   "source": [
    "In this exercise we will learn to use the conditionals with text and numbers, in order for a conditional to be true, then the condition needs to be true."
   ]
  },
  {
   "cell_type": "markdown",
   "metadata": {},
   "source": [
    "# IF"
   ]
  },
  {
   "cell_type": "markdown",
   "metadata": {},
   "source": [
    "This will evaluate the condition, if its true it will execute what's after the colon and indented correctly, otherwise it won't do anything."
   ]
  },
  {
   "cell_type": "markdown",
   "metadata": {},
   "source": [
    "# ELSE"
   ]
  },
  {
   "cell_type": "markdown",
   "metadata": {},
   "source": [
    "(NEEDS AN IF) If the condition of the IF is true, then the command inside it will not be executed, but if it's false then the program will execute what's after the colon of the ELSE and indented correctly. Works well with only 2 options."
   ]
  },
  {
   "cell_type": "markdown",
   "metadata": {},
   "source": [
    "# ELIF"
   ]
  },
  {
   "cell_type": "markdown",
   "metadata": {},
   "source": [
    "(NEEDS TO BE BETWEEN AN IF AND AN ELSE) If the condition of the IF is false the it will proceed to evaluate the condition in the ELIF, if its true then it will execute all the commands after the colon of the ELIF and indented correctly, ignoring completely the ELSE, otherwise, if the ELIF is false too, then it will proceed to the ELSE. Works well with 3 options or more. It can be put as much ELIFs as we want."
   ]
  },
  {
   "cell_type": "markdown",
   "metadata": {},
   "source": [
    "# MY STYLE"
   ]
  },
  {
   "cell_type": "markdown",
   "metadata": {},
   "source": [
    "About my style of programming with conditionals, I'd rather use a lot of IFs than the ELIFs or ELSEs"
   ]
  },
  {
   "cell_type": "code",
   "execution_count": 12,
   "metadata": {},
   "outputs": [
    {
     "name": "stdout",
     "output_type": "stream",
     "text": [
      "Which Hyena from the Lion King are you?\n",
      "\n",
      "NOTE: This test could not be 100% accurate\n",
      "\n",
      "\n",
      "Are you ready to start? (yes/no)\n",
      "yes\n",
      "Ok, let's start!\n",
      "\n",
      "\n",
      "QUESTION 1: What's your personality? (a/b/c)\n",
      "a) Cunning\n",
      "b) Lazy\n",
      "c) Aggressive\n",
      "Your answer: a\n",
      "\n",
      "QUESTION 2: What activity fits you better? (a/b/c)\n",
      "a) Eating\n",
      "b) Playing\n",
      "c) Studying\n",
      "Your answer: c\n",
      "\n",
      "QUESTION 3: Are you usually the youngest or the oldest of your brothers? (a/b/c)\n",
      "a) Youngest\n",
      "b) Oldest\n",
      "c) None of the above\n",
      "Your answer: b\n",
      "\n",
      "QUESTION 4: Would you prefer to do things -slow but flawless- or -fast but insufficient- (a/b/c)\n",
      "a) Slow but Flawless\n",
      "b) Fast but Insufficient\n",
      "c) None of the above\n",
      "Your answer: a\n",
      "\n",
      "QUESTION 5: Which of these characteristics fits you better? (a/b/c)\n",
      "a) Organized and Neat\n",
      "b) A little disorganized and quite sloppy\n",
      "c) Totally careless\n",
      "Your answer: a\n",
      "\n",
      "QUESTION 6: What's your favorite food? (a/b/c)\n",
      "a) Pizza and Hamburgers\n",
      "b) Salad and Fruits\n",
      "c) Meats\n",
      "Your answer: a\n",
      "\n",
      "QUESTION 7: What's your favorite color? (a/b/c)\n",
      "a) Red\n",
      "b) Purple\n",
      "c) White\n",
      "Your answer: b\n",
      "\n",
      "QUESTION 8: What's your general mood? (a/b/c)\n",
      "a) Cheerful\n",
      "b) Angry\n",
      "c) Humorous\n",
      "Your answer: c\n",
      "\n",
      "You got 21 points! \n",
      "\n",
      "Shenzi (19-24): You're highly intelligent and caring of the results before handling every situation, you're rather sarcastic and humorous, you prefer to do slow, but perfection matters to you more, you're rather difficult to handle and puts its studies before fun, generally you're the youngest of your brothers.\n",
      "\n",
      "See you later, hope you liked it!\n"
     ]
    }
   ],
   "source": [
    "print(\"Which Hyena from the Lion King are you?\\n\")\n",
    "print(\"NOTE: This test could not be 100% accurate\\n\\n\")\n",
    "print(\"Are you ready to start? (yes/no)\")\n",
    "decision = input()\n",
    "n = 0\n",
    "if decision == \"yes\":\n",
    "    print(\"Ok, let's start!\\n\")\n",
    "    print(\"\\nQUESTION 1: What's your personality? (a/b/c)\")\n",
    "    print(\"a) Cunning\")\n",
    "    print(\"b) Lazy\")\n",
    "    print(\"c) Aggressive\")\n",
    "    q1 = input(\"Your answer: \")\n",
    "    if q1 == \"a\":\n",
    "        n = n + 3\n",
    "    if q1 == \"b\":\n",
    "        n = n + 1\n",
    "    if q1 == \"c\":\n",
    "        n = n + 2\n",
    "    print(\"\\nQUESTION 2: What activity fits you better? (a/b/c)\")\n",
    "    print(\"a) Eating\")\n",
    "    print(\"b) Playing\")\n",
    "    print(\"c) Studying\")\n",
    "    q2 = input(\"Your answer: \")\n",
    "    if q2 == \"a\":\n",
    "        n = n + 2\n",
    "    if q2 == \"b\":\n",
    "        n = n + 1\n",
    "    if q2 == \"c\":\n",
    "        n = n + 3\n",
    "    print(\"\\nQUESTION 3: Are you usually the youngest or the oldest of your brothers? (a/b/c)\")\n",
    "    print(\"a) Youngest\")\n",
    "    print(\"b) Oldest\")\n",
    "    print(\"c) None of the above\")\n",
    "    q3 = input(\"Your answer: \")\n",
    "    if q3 == \"a\":\n",
    "        n = n + 3\n",
    "    if q3 == \"b\":\n",
    "        n = n + 2\n",
    "    if q3 == \"c\":\n",
    "        n = n + 1\n",
    "    print(\"\\nQUESTION 4: Would you prefer to do things -slow but flawless- or -fast but insufficient- (a/b/c)\")\n",
    "    print(\"a) Slow but Flawless\")\n",
    "    print(\"b) Fast but Insufficient\")\n",
    "    print(\"c) None of the above\")\n",
    "    q4 = input(\"Your answer: \")\n",
    "    if q4 == \"a\":\n",
    "        n = n + 3\n",
    "    if q4 == \"b\":\n",
    "        n = n + 2\n",
    "    if q4 == \"c\":\n",
    "        n = n + 1\n",
    "    print(\"\\nQUESTION 5: Which of these characteristics fits you better? (a/b/c)\")\n",
    "    print(\"a) Organized and Neat\")\n",
    "    print(\"b) A little disorganized and quite sloppy\")\n",
    "    print(\"c) Totally careless\")\n",
    "    q5 = input(\"Your answer: \")\n",
    "    if q5 == \"a\":\n",
    "        n = n + 3\n",
    "    if q5 == \"b\":\n",
    "        n = n + 2\n",
    "    if q5 == \"c\":\n",
    "        n = n + 1\n",
    "    print(\"\\nQUESTION 6: What's your favorite food? (a/b/c)\")\n",
    "    print(\"a) Pizza and Hamburgers\")\n",
    "    print(\"b) Salad and Fruits\")\n",
    "    print(\"c) Meats\")\n",
    "    q6 = input(\"Your answer: \")\n",
    "    if q6 == \"a\":\n",
    "        n = n + 1\n",
    "    if q6 == \"b\":\n",
    "        n = n + 3\n",
    "    if q6 == \"c\":\n",
    "        n = n + 2\n",
    "    print(\"\\nQUESTION 7: What's your favorite color? (a/b/c)\")\n",
    "    print(\"a) Red\")\n",
    "    print(\"b) Purple\")\n",
    "    print(\"c) White\")\n",
    "    q7 = input(\"Your answer: \")\n",
    "    if q7 == \"a\":\n",
    "        n = n + 2\n",
    "    if q7 == \"b\":\n",
    "        n = n + 3\n",
    "    if q7 == \"c\":\n",
    "        n = n + 1\n",
    "    print(\"\\nQUESTION 8: What's your general mood? (a/b/c)\")\n",
    "    print(\"a) Cheerful\")\n",
    "    print(\"b) Angry\")\n",
    "    print(\"c) Humorous\")\n",
    "    q8 = input(\"Your answer: \")\n",
    "    if q8 == \"a\":\n",
    "        n = n + 1\n",
    "    if q8 == \"b\":\n",
    "        n = n + 2\n",
    "    if q8 == \"c\":\n",
    "        n = n + 3\n",
    "    \n",
    "    print(f\"\\nYou got {n} points! \\n\")\n",
    "    if n >= 8 and n <= 13:\n",
    "        print(\"Ed (8-13): You're generally lazy and rather disorganized while doing your work, you're always happy, you prefer playing around rather than taking everything serious, you're very charismatic so you'll be good as a friend.\\n\")\n",
    "    if n >= 14 and n <= 18:\n",
    "        print(\"Banzai (14-18): You're generally aggresive towards any situation, you're rather antipathic, you prefer to take all the situations too seriously, you're fast at doing things but tend to commit errors, generally you're the oldest of your brothers.\\n\")\n",
    "    if n >= 19 and n <= 24:\n",
    "        print(\"Shenzi (19-24): You're highly intelligent and caring of the results before handling every situation, you're rather sarcastic and humorous, you prefer to do slow, but perfection matters to you more, you're rather difficult to handle and puts its studies before fun, generally you're the youngest of your brothers.\\n\")\n",
    "        \n",
    "    print(\"See you later, hope you liked it!\")\n",
    "else:\n",
    "    print(\"Ok, see you later!\")"
   ]
  }
 ],
 "metadata": {
  "kernelspec": {
   "display_name": "Python 3",
   "language": "python",
   "name": "python3"
  },
  "language_info": {
   "codemirror_mode": {
    "name": "ipython",
    "version": 3
   },
   "file_extension": ".py",
   "mimetype": "text/x-python",
   "name": "python",
   "nbconvert_exporter": "python",
   "pygments_lexer": "ipython3",
   "version": "3.7.4"
  }
 },
 "nbformat": 4,
 "nbformat_minor": 2
}
