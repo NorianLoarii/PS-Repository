{
 "cells": [
  {
   "cell_type": "markdown",
   "metadata": {},
   "source": [
    "# HMW Due to 22/NOV (Changed to 24/NOV)"
   ]
  },
  {
   "cell_type": "markdown",
   "metadata": {},
   "source": [
    "As some exercises can't be executed in the Jupyter Notebook, there will be annexed images of the output console. Also the files of this homework will be found as the name U3HOMEWORK1 the same as this file but in a .rar file"
   ]
  },
  {
   "cell_type": "markdown",
   "metadata": {},
   "source": [
    "## Exercise 13"
   ]
  },
  {
   "cell_type": "markdown",
   "metadata": {},
   "source": [
    "In this exercise we will learn to read all the inputs in one line of the console, this is possible with the line \"from sys import arg\", also we will learn to manupulate information"
   ]
  },
  {
   "cell_type": "code",
   "execution_count": null,
   "metadata": {},
   "outputs": [],
   "source": [
    "from sys import argv\n",
    "\n",
    "script, first, second, third = argv\n",
    "\n",
    "print(\"The name of the file:\", script)\n",
    "print(\"First Variable:\", first)\n",
    "print(\"Second Variable:\", second)\n",
    "print(\"Third Variable:\", third)"
   ]
  },
  {
   "cell_type": "markdown",
   "metadata": {},
   "source": [
    "<img src=\"Ex13OUT.png\">"
   ]
  },
  {
   "cell_type": "markdown",
   "metadata": {},
   "source": [
    "## Exercise 14"
   ]
  },
  {
   "cell_type": "markdown",
   "metadata": {},
   "source": [
    "In this exercise it will be combined the commands from the previous exercise and the input command, so we can print a big text"
   ]
  },
  {
   "cell_type": "code",
   "execution_count": null,
   "metadata": {},
   "outputs": [],
   "source": [
    "from sys import argv\n",
    "\n",
    "script, user_name = argv\n",
    "prompt = 'CMD>> '\n",
    "\n",
    "print(f\"Hi {user_name}, I'm the program {script}.\")\n",
    "print(\"I'll ask you some questions.\")\n",
    "print(f\"What is your favourite subject {user_name}?\")\n",
    "sub = input(prompt)\n",
    "\n",
    "print(f\"What is your favourite animal {user_name}?\")\n",
    "ani = input(prompt)\n",
    "\n",
    "print(\"What is your favourite game?\")\n",
    "gam = input(prompt)\n",
    "\n",
    "print(f\"\\n You said {sub} is your favourite subject. Interesting.\")\n",
    "print(f\"\\n Your favourite animal is {ani}. Mine Too!\")\n",
    "print(f\"\\n You play {gam}! Nice to know that!\")"
   ]
  },
  {
   "cell_type": "markdown",
   "metadata": {},
   "source": [
    "<img src=\"Ex14OUT.png\">"
   ]
  },
  {
   "cell_type": "markdown",
   "metadata": {},
   "source": [
    "## Exercise 15"
   ]
  },
  {
   "cell_type": "markdown",
   "metadata": {},
   "source": [
    "In this file the only command that will be added is the open command, which as its name indicates it opens a file by the name given"
   ]
  },
  {
   "cell_type": "code",
   "execution_count": null,
   "metadata": {},
   "outputs": [],
   "source": [
    "from sys import argv\n",
    "\n",
    "script, filename = argv\n",
    "\n",
    "txt = open(filename)\n",
    "\n",
    "print(f\"This is your file {filename}:\")\n",
    "print(txt.read())\n",
    "\n",
    "print(\"\\nType the filename again:\")\n",
    "file = input(\"CMD>> \")\n",
    "\n",
    "readt = open(file)\n",
    "\n",
    "print(readt.read())"
   ]
  },
  {
   "cell_type": "markdown",
   "metadata": {},
   "source": [
    "<img src=\"Ex15OUT.png\">"
   ]
  },
  {
   "cell_type": "markdown",
   "metadata": {},
   "source": [
    "## Exercise 16"
   ]
  },
  {
   "cell_type": "markdown",
   "metadata": {},
   "source": [
    "Now we will combine the command open with these commands called truncate (which erases the information contained in a file) and 2 new commands that depend from each other, the 'w' in the open command which indicates that the file will be written, and the write command which writes information to the file"
   ]
  },
  {
   "cell_type": "code",
   "execution_count": null,
   "metadata": {},
   "outputs": [],
   "source": [
    "from sys import argv\n",
    "\n",
    "script, filename = argv\n",
    "\n",
    "print(f\"I'm going to erase {filename}.\")\n",
    "print(\"Opening the file...\")\n",
    "target = open(filename, 'w')\n",
    "print(\"Erasing the content. Au Revoir!\")\n",
    "target.truncate()\n",
    "\n",
    "print(\"\\nWhat information would you like to write?\")\n",
    "\n",
    "l1 = input(\"LINE 1 >>> \")\n",
    "l2 = input(\"LINE 2 >>> \")\n",
    "l3 = input(\"LINE 3 >>> \")\n",
    "\n",
    "print(\"\\nWriting the information to the file.\")\n",
    "\n",
    "target.write(l1)\n",
    "target.write(\"\\n\")\n",
    "target.write(l2)\n",
    "target.write(\"\\n\")\n",
    "target.write(l3)\n",
    "target.write(\"\\n\")\n",
    "\n",
    "print(\"Writing successful!\")\n",
    "target.close()"
   ]
  },
  {
   "cell_type": "markdown",
   "metadata": {},
   "source": [
    "<img src=\"Ex16OUT.png\">"
   ]
  },
  {
   "cell_type": "markdown",
   "metadata": {},
   "source": [
    "## Exercise 17"
   ]
  },
  {
   "cell_type": "markdown",
   "metadata": {},
   "source": [
    "Now 2 commands will be combined into one in one sole exercise, the read and write with also a miscellaneous command called len, which gives the size of a file in bytes"
   ]
  },
  {
   "cell_type": "code",
   "execution_count": null,
   "metadata": {},
   "outputs": [],
   "source": [
    "from sys import argv\n",
    "from os.path import exists\n",
    "\n",
    "script, from_file, to_file = argv\n",
    "\n",
    "print(f\"Copying from {from_file} to {to_file}\")\n",
    "\n",
    "in_file = open(from_file)\n",
    "indata = in_file.read()\n",
    "\n",
    "print(f\"The input file is {len(indata)} bytes long\")\n",
    "\n",
    "out_file = open(to_file, 'w')\n",
    "out_file.write(indata)\n",
    "\n",
    "print(\"Alright, all done.\")\n",
    "\n",
    "out_file.close()\n",
    "in_file.close()"
   ]
  },
  {
   "cell_type": "markdown",
   "metadata": {},
   "source": [
    "<img src=\"Ex17OUT.png\">"
   ]
  },
  {
   "cell_type": "markdown",
   "metadata": {},
   "source": [
    "## Exercise 18"
   ]
  },
  {
   "cell_type": "markdown",
   "metadata": {},
   "source": [
    "In this exercise it will be introduced the def command, which defines a \"function\" that will execute all the commands inside it when it is called the function, every time the function fulfills the criteria"
   ]
  },
  {
   "cell_type": "code",
   "execution_count": 6,
   "metadata": {},
   "outputs": [
    {
     "name": "stdout",
     "output_type": "stream",
     "text": [
      "Text 1: Norian, Text 2: Loarii\n",
      "Text 1: Norian\n",
      "Nothing Here!\n"
     ]
    }
   ],
   "source": [
    "def phrase1(txt1, txt2):\n",
    "    print(f\"Text 1: {txt1}, Text 2: {txt2}\")\n",
    "\n",
    "def phrase2(txt1):\n",
    "    print(f\"Text 1: {txt1}\")\n",
    "\n",
    "def phrase3():\n",
    "    print(\"Nothing Here!\")\n",
    "\n",
    "phrase1(\"Norian\" , \"Loarii\")\n",
    "phrase2(\"Norian\")\n",
    "phrase3()"
   ]
  },
  {
   "cell_type": "markdown",
   "metadata": {},
   "source": [
    "## Exercise 19"
   ]
  },
  {
   "cell_type": "markdown",
   "metadata": {},
   "source": [
    "In this exercise will be used the same function as the previous exercise but this time with numbers and a little math in them"
   ]
  },
  {
   "cell_type": "code",
   "execution_count": 15,
   "metadata": {},
   "outputs": [
    {
     "name": "stdout",
     "output_type": "stream",
     "text": [
      "\n",
      "The Value of A is 10\n",
      "The Value of B is 20\n",
      "\n",
      "The Value of A is 26\n",
      "The Value of B is 40\n",
      "\n",
      "The Value of A is 65\n",
      "The Value of B is 30\n",
      "\n",
      "The Value of A is 70\n",
      "The Value of B is 32\n"
     ]
    }
   ],
   "source": [
    "def function(a, b):\n",
    "    print(f\"\\nThe Value of A is {a}\")\n",
    "    print(f\"The Value of B is {b}\")\n",
    "    \n",
    "x = 65\n",
    "y = 30\n",
    "\n",
    "function(10, 20)\n",
    "function(20 + 6, 30 + 10)\n",
    "function(x, y)\n",
    "function(x + 5, y + 2)"
   ]
  },
  {
   "cell_type": "markdown",
   "metadata": {},
   "source": [
    "## Exercise 20"
   ]
  },
  {
   "cell_type": "markdown",
   "metadata": {},
   "source": [
    "Now we will read a file using some def commands and the previous file readings"
   ]
  },
  {
   "cell_type": "code",
   "execution_count": null,
   "metadata": {},
   "outputs": [],
   "source": [
    "from sys import argv\n",
    "\n",
    "script, input_file = argv\n",
    "\n",
    "def print_all(f):\n",
    "    print(f.read())\n",
    "\n",
    "def rewind(f):\n",
    "    f.seek(0)\n",
    "\n",
    "def print_a_line(line_count, f):\n",
    "    print(line_count, f.readline())\n",
    "\n",
    "current_file = open(input_file)\n",
    "\n",
    "print(\"First let's print the whole file:\\n\")\n",
    "\n",
    "print_all(current_file)\n",
    "\n",
    "print(\"\\nNow let's rewind, kind of like a tape.\")\n",
    "\n",
    "rewind(current_file)\n",
    "\n",
    "print(\"Let's print three lines:\\n\")\n",
    "\n",
    "current_line = 1\n",
    "print_a_line(current_line, current_file)\n",
    "\n",
    "current_line = current_line + 1\n",
    "print_a_line(current_line, current_file)\n",
    "\n",
    "current_line = current_line + 1\n",
    "print_a_line(current_line, current_file)"
   ]
  },
  {
   "cell_type": "markdown",
   "metadata": {},
   "source": [
    "<img src=\"Ex20OUT.png\">"
   ]
  },
  {
   "cell_type": "markdown",
   "metadata": {},
   "source": [
    "## Exercise 21"
   ]
  },
  {
   "cell_type": "markdown",
   "metadata": {},
   "source": [
    "In this exercise we will use the previous def commands but now they will return a value once they are executed"
   ]
  },
  {
   "cell_type": "code",
   "execution_count": 23,
   "metadata": {},
   "outputs": [
    {
     "name": "stdout",
     "output_type": "stream",
     "text": [
      "A = 649\n",
      "B = 4\n",
      "C = 2737\n"
     ]
    }
   ],
   "source": [
    "def fx(x):\n",
    "    funfx = 5*x**2 - 6*x + 1\n",
    "    return funfx\n",
    "    \n",
    "def gx(x):\n",
    "    fungx = 10*x - 16\n",
    "    return fungx\n",
    "\n",
    "a = fx(12)\n",
    "b = gx(2)\n",
    "c = fx(gx(4))\n",
    "\n",
    "print(f\"A = {a}\")\n",
    "print(f\"B = {b}\")\n",
    "print(f\"C = {c}\")"
   ]
  },
  {
   "cell_type": "code",
   "execution_count": null,
   "metadata": {},
   "outputs": [],
   "source": []
  }
 ],
 "metadata": {
  "kernelspec": {
   "display_name": "Python 3",
   "language": "python",
   "name": "python3"
  },
  "language_info": {
   "codemirror_mode": {
    "name": "ipython",
    "version": 3
   },
   "file_extension": ".py",
   "mimetype": "text/x-python",
   "name": "python",
   "nbconvert_exporter": "python",
   "pygments_lexer": "ipython3",
   "version": "3.7.4"
  }
 },
 "nbformat": 4,
 "nbformat_minor": 2
}
